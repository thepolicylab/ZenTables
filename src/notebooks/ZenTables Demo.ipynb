{
 "cells": [
  {
   "cell_type": "markdown",
   "id": "august-employee",
   "metadata": {},
   "source": [
    "# `ZenTables` Demo\n",
    "\n",
    "## Installation:\n",
    "\n",
    "You can install this package with\n",
    "\n",
    "```sh\n",
    "pip install zentables\n",
    "```\n",
    "\n",
    "## How to Use `ZenTables` in Python"
   ]
  },
  {
   "cell_type": "code",
   "execution_count": 1,
   "id": "higher-trainer",
   "metadata": {},
   "outputs": [
    {
     "ename": "ModuleNotFoundError",
     "evalue": "No module named 'zentables'",
     "output_type": "error",
     "traceback": [
      "\u001b[0;31m---------------------------------------------------------------------------\u001b[0m",
      "\u001b[0;31mModuleNotFoundError\u001b[0m                       Traceback (most recent call last)",
      "Cell \u001b[0;32mIn[1], line 3\u001b[0m\n\u001b[1;32m      1\u001b[0m \u001b[38;5;28;01mimport\u001b[39;00m \u001b[38;5;21;01mpandas\u001b[39;00m \u001b[38;5;28;01mas\u001b[39;00m \u001b[38;5;21;01mpd\u001b[39;00m\n\u001b[0;32m----> 3\u001b[0m \u001b[38;5;28;01mimport\u001b[39;00m \u001b[38;5;21;01mzentables\u001b[39;00m \u001b[38;5;28;01mas\u001b[39;00m \u001b[38;5;21;01mzen\u001b[39;00m\n",
      "\u001b[0;31mModuleNotFoundError\u001b[0m: No module named 'zentables'"
     ]
    }
   ],
   "source": [
    "import pandas as pd\n",
    "\n",
    "import zentables as zen"
   ]
  },
  {
   "cell_type": "code",
   "execution_count": null,
   "id": "liberal-spiritual",
   "metadata": {},
   "outputs": [],
   "source": [
    "# Uncomment this line to use global options\n",
    "# zen.set_options(font_family=\"Times New Roman, serif\", font_size=12)"
   ]
  },
  {
   "cell_type": "markdown",
   "id": "afraid-value",
   "metadata": {},
   "source": [
    "### Load some data"
   ]
  },
  {
   "cell_type": "code",
   "execution_count": null,
   "id": "published-death",
   "metadata": {},
   "outputs": [],
   "source": [
    "demo_data = pd.read_csv(\"../../tests/fixtures/superstore.csv\")\n",
    "demo_data"
   ]
  },
  {
   "cell_type": "code",
   "execution_count": null,
   "id": "845697f3",
   "metadata": {},
   "outputs": [],
   "source": [
    "demo_data[[\"Segment\", \"Region\"]].value_counts()"
   ]
  },
  {
   "cell_type": "markdown",
   "id": "ignored-church",
   "metadata": {},
   "source": [
    "### The usual Python pivot table"
   ]
  },
  {
   "cell_type": "code",
   "execution_count": null,
   "id": "caring-hacker",
   "metadata": {},
   "outputs": [],
   "source": [
    "df = demo_data.pivot_table(\n",
    "    index=[\"Segment\", \"Region\"],\n",
    "    columns=[\"Category\"],\n",
    "    values=\"Order ID\",\n",
    "    aggfunc=\"count\",\n",
    "    margins=True,\n",
    ")\n",
    "df"
   ]
  },
  {
   "cell_type": "markdown",
   "id": "sharp-thesis",
   "metadata": {},
   "source": [
    "### You __can__ make it look good in pandas __with a lot of code__"
   ]
  },
  {
   "cell_type": "code",
   "execution_count": null,
   "id": "increasing-guinea",
   "metadata": {},
   "outputs": [],
   "source": [
    "_table_styles = [\n",
    "    dict(selector=\"thead\", props=[(\"border-bottom\", \"1.5pt solid black\")]),\n",
    "    dict(\n",
    "        selector=\"thead tr:last-child\", props=[(\"display\", \"None\")]\n",
    "    ),  # Hides last row of header\n",
    "    dict(\n",
    "        selector=\".col_heading\",\n",
    "        props=[(\"text-align\", \"center\"), (\"vertical-align\", \"middle\")],\n",
    "    ),\n",
    "    dict(\n",
    "        selector=\"tbody tr\",\n",
    "        props=[\n",
    "            (\"background-color\", \"white\"),\n",
    "        ],\n",
    "    ),\n",
    "    dict(selector=\"tbody tr td\", props=[(\"text-align\", \"center\")]),\n",
    "    dict(\n",
    "        selector=\".row_heading\",\n",
    "        props=[\n",
    "            (\"text-align\", \"left\"),\n",
    "            (\"font-weight\", \"bold\"),\n",
    "        ],\n",
    "    ),\n",
    "]\n",
    "\n",
    "\n",
    "def make_borders(df):\n",
    "    return [\n",
    "        dict(\n",
    "            selector=f\"tbody tr:nth-child({i})\",\n",
    "            props=[(\"border-bottom\", \"1px solid black\")],\n",
    "        )\n",
    "        for i in df.index.get_level_values(0).value_counts().cumsum()\n",
    "    ]\n",
    "\n",
    "\n",
    "df.style.set_table_styles(_table_styles + make_borders(df)).set_table_attributes(\n",
    "    'style=\"border-top: 1.5pt solid black; border-bottom: 1.5pt solid black;\"'\n",
    ")"
   ]
  },
  {
   "cell_type": "markdown",
   "id": "reliable-driving",
   "metadata": {},
   "source": [
    "### The zen way: `df.zt.pretty()`"
   ]
  },
  {
   "cell_type": "code",
   "execution_count": null,
   "id": "alert-combat",
   "metadata": {},
   "outputs": [],
   "source": [
    "df.zen.pretty(font_size=12, font_family=\"Times New Roman\")"
   ]
  },
  {
   "cell_type": "markdown",
   "id": "aerial-castle",
   "metadata": {},
   "source": [
    "### Creating frequency tables with percentages with `df.zen.freq_table()`"
   ]
  },
  {
   "cell_type": "code",
   "execution_count": null,
   "id": "wired-netscape",
   "metadata": {},
   "outputs": [],
   "source": [
    "freq_table = demo_data.zen.freq_table(\n",
    "    index=[\"Segment\", \"Region\"],\n",
    "    columns=[\"Category\"],\n",
    "    values=\"Order ID\",\n",
    "    props=\"columns\",\n",
    "    totals=True,\n",
    "    subtotals=True,\n",
    "    digits=1,\n",
    ")\n",
    "freq_table.zen.pretty()"
   ]
  },
  {
   "cell_type": "code",
   "execution_count": null,
   "id": "6d77aa99-0133-4283-a711-32ecc7202565",
   "metadata": {},
   "outputs": [],
   "source": [
    "freq_table = demo_data.zen.freq_table(\n",
    "    index=[\"Segment\", \"Region\"],\n",
    "    columns=[\"Category\"],\n",
    "    values=\"Order ID\",\n",
    "    props=\"columns\",\n",
    "    totals=False,\n",
    "    subtotals=True,\n",
    "    digits=1,\n",
    ")\n",
    "freq_table.zen.pretty()"
   ]
  },
  {
   "cell_type": "code",
   "execution_count": null,
   "id": "59ea1434-edf4-4a4c-b141-49f14d694f78",
   "metadata": {},
   "outputs": [],
   "source": [
    "freq_table = demo_data.zen.freq_table(\n",
    "    index=[\"Segment\", \"Region\"],\n",
    "    columns=[\"Category\"],\n",
    "    values=\"Order ID\",\n",
    "    props=\"columns\",\n",
    "    totals=True,\n",
    "    subtotals=False,\n",
    "    digits=1,\n",
    ")\n",
    "freq_table.zen.pretty()"
   ]
  },
  {
   "cell_type": "code",
   "execution_count": null,
   "id": "50d08f60-15aa-46de-a710-79f4f2baa1d7",
   "metadata": {},
   "outputs": [],
   "source": [
    "freq_table = demo_data.zen.freq_table(\n",
    "    index=[\"Segment\", \"Region\"],\n",
    "    columns=[\"Category\"],\n",
    "    values=\"Order ID\",\n",
    "    props=\"columns\",\n",
    "    totals=False,\n",
    "    subtotals=False,\n",
    "    digits=1,\n",
    ")\n",
    "freq_table.zen.pretty(row_borders=[1, 20])"
   ]
  },
  {
   "cell_type": "markdown",
   "id": "c28f2d0f",
   "metadata": {},
   "source": [
    "The `suppress` argument also allows for cell suppression below a certain threshold value (or `ceiling`). For specifics on how the suppression is applied, please refer to the following resource provided by the Conneticut Education Department:"
   ]
  },
  {
   "cell_type": "code",
   "execution_count": null,
   "id": "2013baf5",
   "metadata": {},
   "outputs": [],
   "source": [
    "freq_table_suppressed = demo_data.zen.freq_table(\n",
    "    index=[\"Segment\", \"Region\"],\n",
    "    columns=[\"Category\"],\n",
    "    values=\"Order ID\",\n",
    "    props=\"columns\",\n",
    "    totals=True,\n",
    "    subtotals=True,\n",
    "    digits=1,\n",
    "    suppress=True,\n",
    "    low=100,\n",
    "    high=300,\n",
    ")\n",
    "freq_table_suppressed.zen.pretty()"
   ]
  },
  {
   "cell_type": "markdown",
   "id": "boxed-texture",
   "metadata": {},
   "source": [
    "### Creating mean and standard deviation tables with `df.zen.mean_sd_table()`"
   ]
  },
  {
   "cell_type": "code",
   "execution_count": null,
   "id": "4ac6e5ce",
   "metadata": {},
   "outputs": [],
   "source": [
    "demo_data[[\"Category\", \"Sales\"]].iloc[:10, :].zen.pretty(row_borders=[1])"
   ]
  },
  {
   "cell_type": "code",
   "execution_count": null,
   "id": "alien-namibia",
   "metadata": {},
   "outputs": [],
   "source": [
    "mean_sd_table = demo_data.zen.mean_sd_table(\n",
    "    index=[\"Segment\", \"Region\"],\n",
    "    columns=[\"Category\"],\n",
    "    values=\"Sales\",\n",
    "    margins=True,\n",
    "    margins_name=\"All\",\n",
    "    submargins=True,\n",
    "    submargins_name=\"All Regions\",\n",
    "    digits=2,\n",
    ")\n",
    "mean_sd_table.zen.pretty()"
   ]
  },
  {
   "cell_type": "code",
   "execution_count": null,
   "id": "6907d4c8",
   "metadata": {},
   "outputs": [],
   "source": [
    "# Can also create suppressed tables\n",
    "mean_sd_table = demo_data.zen.mean_sd_table(\n",
    "    index=[\"Segment\", \"Region\"],\n",
    "    columns=[\"Category\"],\n",
    "    values=\"Sales\",\n",
    "    margins=True,\n",
    "    margins_name=\"All\",\n",
    "    submargins=True,\n",
    "    submargins_name=\"All Regions\",\n",
    "    digits=2,\n",
    "    suppress=True,\n",
    "    low=1,\n",
    "    high=100,\n",
    ")\n",
    "mean_sd_table.zen.pretty()"
   ]
  },
  {
   "cell_type": "markdown",
   "id": "controlling-advertising",
   "metadata": {},
   "source": [
    "### Creating any pivot table with sub-tallies with `df.zen.pivot_table()`"
   ]
  },
  {
   "cell_type": "code",
   "execution_count": null,
   "id": "acc41439-4d4f-427c-bfee-93460280b4af",
   "metadata": {},
   "outputs": [],
   "source": [
    "mean_median_table = demo_data.zen.pivot_table(\n",
    "    index=[\"Segment\", \"Region\"],\n",
    "    columns=[\"Category\"],\n",
    "    values=\"Sales\",\n",
    "    aggfunc=[\"count\", \"mean\", \"median\"],\n",
    "    margins=True,\n",
    "    margins_name=\"All\",\n",
    "    submargins=True,\n",
    "    submargins_name=\"All Regions\",\n",
    ").rename(\n",
    "    columns={\n",
    "        \"count\": \"n\",\n",
    "        \"mean\": \"Mean\",\n",
    "        \"median\": \"Median\",\n",
    "    }\n",
    ")\n",
    "mean_median_table.zen.pretty().format(precision=1)"
   ]
  },
  {
   "cell_type": "code",
   "execution_count": null,
   "id": "considerable-roberts",
   "metadata": {},
   "outputs": [],
   "source": [
    "mean_median_table = demo_data.zen.pivot_table(\n",
    "    index=[\"Segment\", \"Region\"],\n",
    "    columns=[\"Category\"],\n",
    "    values=\"Sales\",\n",
    "    aggfunc=[\"count\", \"mean\", \"median\"],\n",
    "    margins=True,\n",
    "    margins_name=\"All\",\n",
    "    submargins=True,\n",
    "    submargins_name=\"All Regions\",\n",
    ").rename(\n",
    "    columns={\n",
    "        \"count\": \"n\",\n",
    "        \"mean\": \"Mean\",\n",
    "        \"median\": \"Median\",\n",
    "    }\n",
    ")\n",
    "mean_median_table.zen.pretty().format(precision=1)"
   ]
  },
  {
   "cell_type": "markdown",
   "id": "violent-gathering",
   "metadata": {},
   "source": [
    "### Compare with the original Python `pivot_table()`"
   ]
  },
  {
   "cell_type": "code",
   "execution_count": null,
   "id": "split-toyota",
   "metadata": {},
   "outputs": [],
   "source": [
    "demo_data.pivot_table(\n",
    "    index=[\"Segment\", \"Region\"],\n",
    "    columns=[\"Category\"],\n",
    "    values=\"Sales\",\n",
    "    aggfunc=[\"count\", \"mean\", \"median\"],\n",
    "    margins=True,\n",
    "    margins_name=\"All\",\n",
    ").rename(\n",
    "    columns={\n",
    "        \"count\": \"n\",\n",
    "        \"mean\": \"Mean\",\n",
    "        \"median\": \"Median\",\n",
    "    }\n",
    ")"
   ]
  },
  {
   "cell_type": "code",
   "execution_count": null,
   "id": "5f498376-da56-4fd0-a0b8-2b5c3719a6ed",
   "metadata": {},
   "outputs": [],
   "source": []
  }
 ],
 "metadata": {
  "kernelspec": {
   "display_name": "Python 3 (ipykernel)",
   "language": "python",
   "name": "python3"
  },
  "language_info": {
   "codemirror_mode": {
    "name": "ipython",
    "version": 3
   },
   "file_extension": ".py",
   "mimetype": "text/x-python",
   "name": "python",
   "nbconvert_exporter": "python",
   "pygments_lexer": "ipython3",
   "version": "3.9.13"
  },
  "toc-autonumbering": true,
  "toc-showtags": false
 },
 "nbformat": 4,
 "nbformat_minor": 5
}
